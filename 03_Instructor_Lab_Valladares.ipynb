{
 "cells": [
  {
   "cell_type": "markdown",
   "id": "33eccf1c-6c7d-4d41-98ce-53cfc6ca1645",
   "metadata": {},
   "source": [
    "# Week 2 Independent lab\n",
    "\n",
    "**Course Information:**  Graduate Introduction to Python, BGEN 632\n",
    "\n",
    "**Notebook Author Name:** Leo Valladares\n",
    "\n",
    "**Submission Date:**  2025/03/03\n",
    "\n",
    "**Description:** This notebook converts Celsius to Fahrenheit and Kelvins and compares two sets of values. \n",
    "\n",
    "Main Formulas: \n",
    "\n",
    "Fahrenheit = (9 / 5) * Celsius + 32\n",
    "\n",
    "Celsius = Kelvin - 273.15\n"
   ]
  },
  {
   "cell_type": "code",
   "execution_count": 48,
   "id": "d8874704-b6b3-4ab7-8222-e9c6c3c4c061",
   "metadata": {},
   "outputs": [
    {
     "name": "stdout",
     "output_type": "stream",
     "text": [
      "Welcome to the Temperature calculator App 2.0\n"
     ]
    },
    {
     "name": "stdin",
     "output_type": "stream",
     "text": [
      "Please provide a value, in Celsius, to convert:\n",
      " 12\n"
     ]
    },
    {
     "name": "stdout",
     "output_type": "stream",
     "text": [
      "12 degrees celsius is 53 degrees fahrenheit which is 285 degrees Kelvin.\n"
     ]
    },
    {
     "name": "stdin",
     "output_type": "stream",
     "text": [
      "Please provide a second value, in Celsius, to convert:\n",
      " 12\n"
     ]
    },
    {
     "name": "stdout",
     "output_type": "stream",
     "text": [
      "Second set of values: 12 degrees celsius is 53 degrees fahrenheit which is 285 degrees Kelvin.\n",
      "Both Celcius values are equal to 12.000000.\n",
      "Both Fahrenheit values are equal to 53.600000.\n",
      "Both Kelvin values are equal to 285.150000.\n",
      "Thank you for using the Temperature calculator App 2.0\n"
     ]
    }
   ],
   "source": [
    "# create variables\n",
    "celsius = 0.0\n",
    "fahrenheit = 0.0 \n",
    "kelvin = 0.0\n",
    "\n",
    "# Welcome message\n",
    "print(\"Welcome to the Temperature Calculator App 2.0\")\n",
    "\n",
    "# Request Celsius value to user\n",
    "celsius = float(input(\"Please provide a value, in Celsius, to convert:\\n\"))\n",
    "\n",
    "# Convert Celsius to Fahrenheit \n",
    "fahrenheit = (9 / 5) * celsius + 32\n",
    "\n",
    "# Convert to Celsius to Kelvin\n",
    "kelvin = celsius + 273.15\n",
    "\n",
    "# Print \"c degrees celsius is f degrees fahrenheit.\" \n",
    "print(\"%d degrees celsius is %d degrees fahrenheit which is %d degrees Kelvin.\" % (celsius, fahrenheit, kelvin))\n",
    "\n",
    "####### create second set of variables\n",
    "celsius_two = 0.0\n",
    "fahrenheit_two = 0.0 \n",
    "kelvin_two = 0.0\n",
    "\n",
    "# Request New Celsius value to user\n",
    "celsius_two = float(input(\"Please provide a second value, in Celsius, to convert:\\n\"))\n",
    "\n",
    "# Convert Celsius to Fahrenheit \n",
    "fahrenheit_two = (9 / 5) * celsius_two + 32\n",
    "\n",
    "# Convert to Celsius to Kelvin\n",
    "kelvin_two = celsius_two + 273.15\n",
    "\n",
    "# Print second message \n",
    "print(\"Second set of values: %d degrees celsius is %d degrees fahrenheit which is %d degrees Kelvin.\" % (celsius_two, fahrenheit_two, kelvin_two))\n",
    "\n",
    "####### Print results\n",
    "# Make comparison for Celsius\n",
    "if celsius < celsius_two:\n",
    "    # Case when second value is larger\n",
    "    print(\"The second Celcius value of %f is more than the first value of %f.\" % (celsius_two, celsius))\n",
    "elif celsius > celsius_two:\n",
    "    # Case when second value is smaller\n",
    "    print(\"The second Celcius value of %f is less than the first value of %f.\" % (celsius_two, celsius))\n",
    "else:\n",
    "    # Case when values are the same\n",
    "    print(\"Both Celcius values are equal to %f.\" % (celsius))\n",
    "\n",
    "# Make comparison for fahrenheit\n",
    "if fahrenheit < fahrenheit_two:\n",
    "    # Case when second value is larger\n",
    "    print(\"The second Fahrenheit value of %f is more than the first value of %f.\" % (fahrenheit_two, fahrenheit))\n",
    "elif fahrenheit > fahrenheit_two:\n",
    "    # Case when second value is smaller\n",
    "    print(\"The second Fahrenheit value of %f is less than the first value of %f.\" % (fahrenheit_two, fahrenheit))\n",
    "else:\n",
    "    # Case when values ar the same\n",
    "    print(\"Both Fahrenheit values are equal to %f.\" % (fahrenheit_two))\n",
    "\n",
    "# Make comparison for fahrenheit\n",
    "if kelvin < kelvin_two:\n",
    "    # Case when second value is larger\n",
    "    print(\"The second Kelvin value of %f is more than the first value of %f.\" % (kelvin_two, kelvin))\n",
    "elif kelvin > kelvin_two:\n",
    "    # Case when second value is smaller\n",
    "    print(\"The second Kelvin value of %f is less than the first value of %f.\" % (kelvin_two, kelvin))\n",
    "else:\n",
    "    # Case when values ar the same\n",
    "    print(\"Both Kelvin values are equal to %f.\" % (kelvin))\n",
    "\n",
    "print(\"Thank you for using the Temperature Calculator App 2.0\")"
   ]
  }
 ],
 "metadata": {
  "kernelspec": {
   "display_name": "Python [conda env:base] *",
   "language": "python",
   "name": "conda-base-py"
  },
  "language_info": {
   "codemirror_mode": {
    "name": "ipython",
    "version": 3
   },
   "file_extension": ".py",
   "mimetype": "text/x-python",
   "name": "python",
   "nbconvert_exporter": "python",
   "pygments_lexer": "ipython3",
   "version": "3.12.7"
  }
 },
 "nbformat": 4,
 "nbformat_minor": 5
}
